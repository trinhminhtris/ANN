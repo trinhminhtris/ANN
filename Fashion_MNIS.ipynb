{
  "nbformat": 4,
  "nbformat_minor": 0,
  "metadata": {
    "colab": {
      "provenance": [],
      "toc_visible": true,
      "mount_file_id": "1kNnWDfvnxZqy6EGPNUOMsUjRYVhHkzx2",
      "authorship_tag": "ABX9TyNYMUucE4ASDJf4t9edN6I9",
      "include_colab_link": true
    },
    "kernelspec": {
      "name": "python3",
      "display_name": "Python 3"
    },
    "language_info": {
      "name": "python"
    }
  },
  "cells": [
    {
      "cell_type": "markdown",
      "metadata": {
        "id": "view-in-github",
        "colab_type": "text"
      },
      "source": [
        "<a href=\"https://colab.research.google.com/github/trinhminhtris/ANN/blob/main/Fashion_MNIS.ipynb\" target=\"_parent\"><img src=\"https://colab.research.google.com/assets/colab-badge.svg\" alt=\"Open In Colab\"/></a>"
      ]
    },
    {
      "cell_type": "code",
      "execution_count": null,
      "metadata": {
        "id": "Psw5JmLGEzV2"
      },
      "outputs": [],
      "source": [
        "from keras.datasets import fashion_mnist\n",
        "import matplotlib.pyplot as plt\n",
        "from keras.models import Sequential\n",
        "from keras.layers import Dense\n",
        "import numpy as np\n",
        "from keras.utils import to_categorical\n",
        "from keras.utils import load_img"
      ]
    },
    {
      "cell_type": "code",
      "source": [
        "(x_train, y_train), (x_test, y_test) = fashion_mnist.load_data()\n",
        "digit = x_train[3000]\n",
        "plt.imshow(digit, cmap = plt.cm.binary)\n",
        "plt.show()\n",
        "print('Số: ', y_train[3000])"
      ],
      "metadata": {
        "colab": {
          "base_uri": "https://localhost:8080/",
          "height": 586
        },
        "id": "AT4VJqjGGA4s",
        "outputId": "f23c25de-e9ff-46e9-dd28-74c718982f8d"
      },
      "execution_count": null,
      "outputs": [
        {
          "output_type": "stream",
          "name": "stdout",
          "text": [
            "Downloading data from https://storage.googleapis.com/tensorflow/tf-keras-datasets/train-labels-idx1-ubyte.gz\n",
            "29515/29515 [==============================] - 0s 0us/step\n",
            "Downloading data from https://storage.googleapis.com/tensorflow/tf-keras-datasets/train-images-idx3-ubyte.gz\n",
            "26421880/26421880 [==============================] - 0s 0us/step\n",
            "Downloading data from https://storage.googleapis.com/tensorflow/tf-keras-datasets/t10k-labels-idx1-ubyte.gz\n",
            "5148/5148 [==============================] - 0s 0us/step\n",
            "Downloading data from https://storage.googleapis.com/tensorflow/tf-keras-datasets/t10k-images-idx3-ubyte.gz\n",
            "4422102/4422102 [==============================] - 0s 0us/step\n"
          ]
        },
        {
          "output_type": "display_data",
          "data": {
            "text/plain": [
              "<Figure size 640x480 with 1 Axes>"
            ],
            "image/png": "[encoded data removed]"
          },
          "metadata": {}
        },
        {
          "output_type": "stream",
          "name": "stdout",
          "text": [
            "Số:  6\n"
          ]
        }
      ]
    },
    {
      "cell_type": "code",
      "source": [
        "x_train.shape"
      ],
      "metadata": {
        "colab": {
          "base_uri": "https://localhost:8080/"
        },
        "id": "X_Gh2c3xJVnL",
        "outputId": "e6075579-e76f-4be0-f13e-e92ddde535a9"
      },
      "execution_count": null,
      "outputs": [
        {
          "output_type": "execute_result",
          "data": {
            "text/plain": [
              "(60000, 28, 28)"
            ]
          },
          "metadata": {},
          "execution_count": 11
        }
      ]
    },
    {
      "cell_type": "code",
      "source": [
        "y_train.shape"
      ],
      "metadata": {
        "colab": {
          "base_uri": "https://localhost:8080/"
        },
        "id": "pKfRgru3Jaus",
        "outputId": "3f224a36-9f1a-4dfd-c425-8e926088651b"
      },
      "execution_count": null,
      "outputs": [
        {
          "output_type": "execute_result",
          "data": {
            "text/plain": [
              "(60000,)"
            ]
          },
          "metadata": {},
          "execution_count": 12
        }
      ]
    },
    {
      "cell_type": "code",
      "source": [
        "x_test.shape"
      ],
      "metadata": {
        "colab": {
          "base_uri": "https://localhost:8080/"
        },
        "id": "8uMUiUVpJdZT",
        "outputId": "b546cd83-67fc-4fcb-e0ed-d67c096e5cf8"
      },
      "execution_count": null,
      "outputs": [
        {
          "output_type": "execute_result",
          "data": {
            "text/plain": [
              "(10000, 28, 28)"
            ]
          },
          "metadata": {},
          "execution_count": 13
        }
      ]
    },
    {
      "cell_type": "code",
      "source": [
        "y_test.shape"
      ],
      "metadata": {
        "colab": {
          "base_uri": "https://localhost:8080/"
        },
        "id": "9PulynoiJlOD",
        "outputId": "77d6e561-ff28-451a-e21f-3a2defd439f7"
      },
      "execution_count": null,
      "outputs": [
        {
          "output_type": "execute_result",
          "data": {
            "text/plain": [
              "(10000,)"
            ]
          },
          "metadata": {},
          "execution_count": 14
        }
      ]
    },
    {
      "cell_type": "code",
      "source": [
        "for i in range(20):\n",
        "  plt.subplot(4, 5, i+1)\n",
        "  plt.tight_layout()\n",
        "  plt.imshow(x_train[i], cmap = 'gray', interpolation = 'none')\n",
        "  plt.title('Số:{}'.format(y_train[i]))\n",
        "  plt.xticks([])\n",
        "  plt.yticks([])"
      ],
      "metadata": {
        "colab": {
          "base_uri": "https://localhost:8080/",
          "height": 463
        },
        "id": "4xYfKgo1Jnx0",
        "outputId": "9d5c1b06-fcb1-49ff-de77-bbec6b6939af"
      },
      "execution_count": null,
      "outputs": [
        {
          "output_type": "display_data",
          "data": {
            "text/plain": [
              "<Figure size 640x480 with 20 Axes>"
            ],
            "image/png": "[encoded data removed]"
          },
          "metadata": {}
        }
      ]
    },
    {
      "cell_type": "code",
      "source": [
        "model = Sequential()\n",
        "# Tạo các lớp ẩn\n",
        "model.add(Dense(10000, activation = 'relu', input_shape = (28*28, )))\n",
        "model.add(Dense(5000, activation = 'relu'))\n",
        "model.add(Dense(1000, activation = 'relu'))\n",
        "model.add(Dense(500, activation = 'relu'))\n",
        "model.add(Dense(100, activation = 'relu'))\n",
        "# Output\n",
        "model.add(Dense(10, activation = 'softmax'))\n",
        "model.summary()"
      ],
      "metadata": {
        "colab": {
          "base_uri": "https://localhost:8080/"
        },
        "id": "JE1lxo9PJu7m",
        "outputId": "12d83f24-5c39-4cb5-811c-08e90667bf3a"
      },
      "execution_count": null,
      "outputs": [
        {
          "output_type": "stream",
          "name": "stdout",
          "text": [
            "Model: \"sequential_1\"\n",
            "_________________________________________________________________\n",
            " Layer (type)                Output Shape              Param #   \n",
            "=================================================================\n",
            " dense_6 (Dense)             (None, 10000)             7850000   \n",
            "                                                                 \n",
            " dense_7 (Dense)             (None, 5000)              50005000  \n",
            "                                                                 \n",
            " dense_8 (Dense)             (None, 1000)              5001000   \n",
            "                                                                 \n",
            " dense_9 (Dense)             (None, 500)               500500    \n",
            "                                                                 \n",
            " dense_10 (Dense)            (None, 100)               50100     \n",
            "                                                                 \n",
            " dense_11 (Dense)            (None, 10)                1010      \n",
            "                                                                 \n",
            "=================================================================\n",
            "Total params: 63,407,610\n",
            "Trainable params: 63,407,610\n",
            "Non-trainable params: 0\n",
            "_________________________________________________________________\n"
          ]
        }
      ]
    },
    {
      "cell_type": "code",
      "source": [
        "X = x_test\n",
        "Y = y_test"
      ],
      "metadata": {
        "id": "RmxJ1vmeKn_V"
      },
      "execution_count": null,
      "outputs": []
    },
    {
      "cell_type": "code",
      "source": [
        "x_train = x_train.reshape(60000, 28*28)\n",
        "\n",
        "# chuyển ảnh có dữ liệu của mỗi pixel 0 ->255 thành ảnh xám 0 -> 1\n",
        "x_train = x_train.astype('float32')/255\n",
        "\n",
        "x_test = x_test.reshape(10000, 28*28)\n",
        "x_test = x_test.astype('float32')/255\n",
        "\n",
        "x_train.shape"
      ],
      "metadata": {
        "colab": {
          "base_uri": "https://localhost:8080/"
        },
        "id": "mEzf-NH7LAnh",
        "outputId": "c2f234ae-54e2-480d-f1cc-54c5900718b2"
      },
      "execution_count": null,
      "outputs": [
        {
          "output_type": "execute_result",
          "data": {
            "text/plain": [
              "(60000, 784)"
            ]
          },
          "metadata": {},
          "execution_count": 19
        }
      ]
    },
    {
      "cell_type": "code",
      "source": [
        "x_test.shape"
      ],
      "metadata": {
        "colab": {
          "base_uri": "https://localhost:8080/"
        },
        "id": "H5oswimsLQcP",
        "outputId": "a4554f3d-27b5-462f-d17d-9e1bc5f5b271"
      },
      "execution_count": null,
      "outputs": [
        {
          "output_type": "execute_result",
          "data": {
            "text/plain": [
              "(10000, 784)"
            ]
          },
          "metadata": {},
          "execution_count": 20
        }
      ]
    },
    {
      "cell_type": "code",
      "source": [
        "y_train = to_categorical(y_train, 10)\n",
        "y_test = to_categorical(y_test, 10)\n",
        "y_train.shape"
      ],
      "metadata": {
        "colab": {
          "base_uri": "https://localhost:8080/"
        },
        "id": "XO2JtISoLXZ9",
        "outputId": "d564ada6-92a9-4250-eaf4-2e2cbc6d89e1"
      },
      "execution_count": null,
      "outputs": [
        {
          "output_type": "execute_result",
          "data": {
            "text/plain": [
              "(60000, 10)"
            ]
          },
          "metadata": {},
          "execution_count": 21
        }
      ]
    },
    {
      "cell_type": "code",
      "source": [
        "y_test.shape"
      ],
      "metadata": {
        "colab": {
          "base_uri": "https://localhost:8080/"
        },
        "id": "82pJcc69LbD-",
        "outputId": "27417fae-5c8f-4e79-ff98-4419c038178d"
      },
      "execution_count": null,
      "outputs": [
        {
          "output_type": "execute_result",
          "data": {
            "text/plain": [
              "(10000, 10)"
            ]
          },
          "metadata": {},
          "execution_count": 22
        }
      ]
    },
    {
      "cell_type": "code",
      "source": [
        "model.compile(optimizer = 'rmsprop', loss = 'categorical_crossentropy', metrics = ['accuracy'])\n",
        "model.fit(x_train, y_train, epochs = 10, batch_size = 128)\n",
        "test_loss, test_acc = model.evaluate(x_test, y_test)\n",
        "print('Mất mát: ', test_loss)\n",
        "print('Độ chính xác: ', test_acc)"
      ],
      "metadata": {
        "colab": {
          "base_uri": "https://localhost:8080/"
        },
        "id": "eZ4HDlO_LerX",
        "outputId": "74d6f4f0-b827-4f3a-c845-57e89dc0369e"
      },
      "execution_count": null,
      "outputs": [
        {
          "output_type": "stream",
          "name": "stdout",
          "text": [
            "Epoch 1/10\n",
            "469/469 [==============================] - 590s 1s/step - loss: 0.7843 - accuracy: 0.7186\n",
            "Epoch 2/10\n",
            "469/469 [==============================] - 634s 1s/step - loss: 0.4375 - accuracy: 0.8402\n",
            "Epoch 3/10\n",
            "469/469 [==============================] - 665s 1s/step - loss: 0.3741 - accuracy: 0.8639\n",
            "Epoch 4/10\n",
            "469/469 [==============================] - 669s 1s/step - loss: 0.3429 - accuracy: 0.8745\n",
            "Epoch 5/10\n",
            "469/469 [==============================] - 669s 1s/step - loss: 0.3204 - accuracy: 0.8823\n",
            "Epoch 6/10\n",
            "469/469 [==============================] - 672s 1s/step - loss: 0.2988 - accuracy: 0.8895\n",
            "Epoch 7/10\n",
            "469/469 [==============================] - 670s 1s/step - loss: 0.2870 - accuracy: 0.8939\n",
            "Epoch 8/10\n",
            "469/469 [==============================] - 674s 1s/step - loss: 0.2742 - accuracy: 0.8996\n",
            "Epoch 9/10\n",
            "469/469 [==============================] - 673s 1s/step - loss: 0.2631 - accuracy: 0.9025\n",
            "Epoch 10/10\n",
            "469/469 [==============================] - 671s 1s/step - loss: 0.2539 - accuracy: 0.9061\n",
            "313/313 [==============================] - 24s 77ms/step - loss: 0.3791 - accuracy: 0.8750\n",
            "Mất mát:  0.3791138827800751\n",
            "Độ chính xác:  0.875\n"
          ]
        }
      ]
    },
    {
      "cell_type": "code",
      "source": [
        "model.save('fashion_mnist.h5')"
      ],
      "metadata": {
        "id": "nKlpDJdxLlYT"
      },
      "execution_count": null,
      "outputs": []
    },
    {
      "cell_type": "code",
      "source": [],
      "metadata": {
        "id": "55D2Lheik-2C"
      },
      "execution_count": null,
      "outputs": []
    }
  ]
}